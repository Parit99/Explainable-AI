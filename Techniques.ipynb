{
  "nbformat": 4,
  "nbformat_minor": 0,
  "metadata": {
    "colab": {
      "name": "Parit_Colab_6.ipynb",
      "provenance": [],
      "collapsed_sections": []
    },
    "kernelspec": {
      "name": "python3",
      "display_name": "Python 3"
    }
  },
  "cells": [
    {
      "cell_type": "markdown",
      "metadata": {
        "id": "eNPhoCc5TlQZ",
        "colab_type": "text"
      },
      "source": [
        "**INSTALLING DEPENDENCIES**"
      ]
    },
    {
      "cell_type": "code",
      "metadata": {
        "id": "58S_VOo2PzYL",
        "colab_type": "code",
        "colab": {
          "base_uri": "https://localhost:8080/",
          "height": 1000
        },
        "outputId": "d7bf98fb-6ae2-45d4-a239-a2ca9f7c2838"
      },
      "source": [
        "!pip install dice-ml\n",
        "!pip install scikit-learn-extra"
      ],
      "execution_count": null,
      "outputs": [
        {
          "output_type": "stream",
          "text": [
            "Collecting dice-ml\n",
            "\u001b[?25l  Downloading https://files.pythonhosted.org/packages/bc/99/9a1f296c6cbde33bcfbe6e2eb82ba4f079d25584cd8acc1bbd296afa0c19/dice_ml-0.2-py3-none-any.whl (53kB)\n",
            "\r\u001b[K     |██████                          | 10kB 18.5MB/s eta 0:00:01\r\u001b[K     |████████████▏                   | 20kB 1.6MB/s eta 0:00:01\r\u001b[K     |██████████████████▎             | 30kB 1.9MB/s eta 0:00:01\r\u001b[K     |████████████████████████▍       | 40kB 2.2MB/s eta 0:00:01\r\u001b[K     |██████████████████████████████▌ | 51kB 2.0MB/s eta 0:00:01\r\u001b[K     |████████████████████████████████| 61kB 1.9MB/s \n",
            "\u001b[?25hRequirement already satisfied: h5py in /usr/local/lib/python3.6/dist-packages (from dice-ml) (2.10.0)\n",
            "Requirement already satisfied: pandas in /usr/local/lib/python3.6/dist-packages (from dice-ml) (1.0.5)\n",
            "Requirement already satisfied: tensorflow>=1.13 in /usr/local/lib/python3.6/dist-packages (from dice-ml) (2.2.0)\n",
            "Requirement already satisfied: numpy in /usr/local/lib/python3.6/dist-packages (from dice-ml) (1.18.5)\n",
            "Requirement already satisfied: scikit-learn in /usr/local/lib/python3.6/dist-packages (from dice-ml) (0.22.2.post1)\n",
            "Requirement already satisfied: six in /usr/local/lib/python3.6/dist-packages (from h5py->dice-ml) (1.12.0)\n",
            "Requirement already satisfied: pytz>=2017.2 in /usr/local/lib/python3.6/dist-packages (from pandas->dice-ml) (2018.9)\n",
            "Requirement already satisfied: python-dateutil>=2.6.1 in /usr/local/lib/python3.6/dist-packages (from pandas->dice-ml) (2.8.1)\n",
            "Requirement already satisfied: grpcio>=1.8.6 in /usr/local/lib/python3.6/dist-packages (from tensorflow>=1.13->dice-ml) (1.30.0)\n",
            "Requirement already satisfied: protobuf>=3.8.0 in /usr/local/lib/python3.6/dist-packages (from tensorflow>=1.13->dice-ml) (3.10.0)\n",
            "Requirement already satisfied: termcolor>=1.1.0 in /usr/local/lib/python3.6/dist-packages (from tensorflow>=1.13->dice-ml) (1.1.0)\n",
            "Requirement already satisfied: wheel>=0.26; python_version >= \"3\" in /usr/local/lib/python3.6/dist-packages (from tensorflow>=1.13->dice-ml) (0.34.2)\n",
            "Requirement already satisfied: scipy==1.4.1; python_version >= \"3\" in /usr/local/lib/python3.6/dist-packages (from tensorflow>=1.13->dice-ml) (1.4.1)\n",
            "Requirement already satisfied: opt-einsum>=2.3.2 in /usr/local/lib/python3.6/dist-packages (from tensorflow>=1.13->dice-ml) (3.2.1)\n",
            "Requirement already satisfied: wrapt>=1.11.1 in /usr/local/lib/python3.6/dist-packages (from tensorflow>=1.13->dice-ml) (1.12.1)\n",
            "Requirement already satisfied: astunparse==1.6.3 in /usr/local/lib/python3.6/dist-packages (from tensorflow>=1.13->dice-ml) (1.6.3)\n",
            "Requirement already satisfied: absl-py>=0.7.0 in /usr/local/lib/python3.6/dist-packages (from tensorflow>=1.13->dice-ml) (0.9.0)\n",
            "Requirement already satisfied: tensorboard<2.3.0,>=2.2.0 in /usr/local/lib/python3.6/dist-packages (from tensorflow>=1.13->dice-ml) (2.2.2)\n",
            "Requirement already satisfied: google-pasta>=0.1.8 in /usr/local/lib/python3.6/dist-packages (from tensorflow>=1.13->dice-ml) (0.2.0)\n",
            "Requirement already satisfied: gast==0.3.3 in /usr/local/lib/python3.6/dist-packages (from tensorflow>=1.13->dice-ml) (0.3.3)\n",
            "Requirement already satisfied: keras-preprocessing>=1.1.0 in /usr/local/lib/python3.6/dist-packages (from tensorflow>=1.13->dice-ml) (1.1.2)\n",
            "Requirement already satisfied: tensorflow-estimator<2.3.0,>=2.2.0 in /usr/local/lib/python3.6/dist-packages (from tensorflow>=1.13->dice-ml) (2.2.0)\n",
            "Requirement already satisfied: joblib>=0.11 in /usr/local/lib/python3.6/dist-packages (from scikit-learn->dice-ml) (0.15.1)\n",
            "Requirement already satisfied: setuptools in /usr/local/lib/python3.6/dist-packages (from protobuf>=3.8.0->tensorflow>=1.13->dice-ml) (47.3.1)\n",
            "Requirement already satisfied: requests<3,>=2.21.0 in /usr/local/lib/python3.6/dist-packages (from tensorboard<2.3.0,>=2.2.0->tensorflow>=1.13->dice-ml) (2.23.0)\n",
            "Requirement already satisfied: google-auth-oauthlib<0.5,>=0.4.1 in /usr/local/lib/python3.6/dist-packages (from tensorboard<2.3.0,>=2.2.0->tensorflow>=1.13->dice-ml) (0.4.1)\n",
            "Requirement already satisfied: tensorboard-plugin-wit>=1.6.0 in /usr/local/lib/python3.6/dist-packages (from tensorboard<2.3.0,>=2.2.0->tensorflow>=1.13->dice-ml) (1.6.0.post3)\n",
            "Requirement already satisfied: werkzeug>=0.11.15 in /usr/local/lib/python3.6/dist-packages (from tensorboard<2.3.0,>=2.2.0->tensorflow>=1.13->dice-ml) (1.0.1)\n",
            "Requirement already satisfied: markdown>=2.6.8 in /usr/local/lib/python3.6/dist-packages (from tensorboard<2.3.0,>=2.2.0->tensorflow>=1.13->dice-ml) (3.2.2)\n",
            "Requirement already satisfied: google-auth<2,>=1.6.3 in /usr/local/lib/python3.6/dist-packages (from tensorboard<2.3.0,>=2.2.0->tensorflow>=1.13->dice-ml) (1.17.2)\n",
            "Requirement already satisfied: certifi>=2017.4.17 in /usr/local/lib/python3.6/dist-packages (from requests<3,>=2.21.0->tensorboard<2.3.0,>=2.2.0->tensorflow>=1.13->dice-ml) (2020.6.20)\n",
            "Requirement already satisfied: chardet<4,>=3.0.2 in /usr/local/lib/python3.6/dist-packages (from requests<3,>=2.21.0->tensorboard<2.3.0,>=2.2.0->tensorflow>=1.13->dice-ml) (3.0.4)\n",
            "Requirement already satisfied: idna<3,>=2.5 in /usr/local/lib/python3.6/dist-packages (from requests<3,>=2.21.0->tensorboard<2.3.0,>=2.2.0->tensorflow>=1.13->dice-ml) (2.9)\n",
            "Requirement already satisfied: urllib3!=1.25.0,!=1.25.1,<1.26,>=1.21.1 in /usr/local/lib/python3.6/dist-packages (from requests<3,>=2.21.0->tensorboard<2.3.0,>=2.2.0->tensorflow>=1.13->dice-ml) (1.24.3)\n",
            "Requirement already satisfied: requests-oauthlib>=0.7.0 in /usr/local/lib/python3.6/dist-packages (from google-auth-oauthlib<0.5,>=0.4.1->tensorboard<2.3.0,>=2.2.0->tensorflow>=1.13->dice-ml) (1.3.0)\n",
            "Requirement already satisfied: importlib-metadata; python_version < \"3.8\" in /usr/local/lib/python3.6/dist-packages (from markdown>=2.6.8->tensorboard<2.3.0,>=2.2.0->tensorflow>=1.13->dice-ml) (1.6.1)\n",
            "Requirement already satisfied: pyasn1-modules>=0.2.1 in /usr/local/lib/python3.6/dist-packages (from google-auth<2,>=1.6.3->tensorboard<2.3.0,>=2.2.0->tensorflow>=1.13->dice-ml) (0.2.8)\n",
            "Requirement already satisfied: rsa<5,>=3.1.4; python_version >= \"3\" in /usr/local/lib/python3.6/dist-packages (from google-auth<2,>=1.6.3->tensorboard<2.3.0,>=2.2.0->tensorflow>=1.13->dice-ml) (4.6)\n",
            "Requirement already satisfied: cachetools<5.0,>=2.0.0 in /usr/local/lib/python3.6/dist-packages (from google-auth<2,>=1.6.3->tensorboard<2.3.0,>=2.2.0->tensorflow>=1.13->dice-ml) (4.1.0)\n",
            "Requirement already satisfied: oauthlib>=3.0.0 in /usr/local/lib/python3.6/dist-packages (from requests-oauthlib>=0.7.0->google-auth-oauthlib<0.5,>=0.4.1->tensorboard<2.3.0,>=2.2.0->tensorflow>=1.13->dice-ml) (3.1.0)\n",
            "Requirement already satisfied: zipp>=0.5 in /usr/local/lib/python3.6/dist-packages (from importlib-metadata; python_version < \"3.8\"->markdown>=2.6.8->tensorboard<2.3.0,>=2.2.0->tensorflow>=1.13->dice-ml) (3.1.0)\n",
            "Requirement already satisfied: pyasn1<0.5.0,>=0.4.6 in /usr/local/lib/python3.6/dist-packages (from pyasn1-modules>=0.2.1->google-auth<2,>=1.6.3->tensorboard<2.3.0,>=2.2.0->tensorflow>=1.13->dice-ml) (0.4.8)\n",
            "Installing collected packages: dice-ml\n",
            "Successfully installed dice-ml-0.2\n",
            "Collecting scikit-learn-extra\n",
            "\u001b[?25l  Downloading https://files.pythonhosted.org/packages/d1/dd/891d2ee7bd18af8f2e1df5d63a52ee96edd0eacc21bb9627072b1c5f6a6c/scikit-learn-extra-0.1.0b2.tar.gz (615kB)\n",
            "\u001b[K     |████████████████████████████████| 624kB 2.7MB/s \n",
            "\u001b[?25h  Installing build dependencies ... \u001b[?25l\u001b[?25hdone\n",
            "  Getting requirements to build wheel ... \u001b[?25l\u001b[?25hdone\n",
            "    Preparing wheel metadata ... \u001b[?25l\u001b[?25hdone\n",
            "Requirement already satisfied: scikit-learn>=0.21.0 in /usr/local/lib/python3.6/dist-packages (from scikit-learn-extra) (0.22.2.post1)\n",
            "Requirement already satisfied: scipy>=0.19.1 in /usr/local/lib/python3.6/dist-packages (from scikit-learn-extra) (1.4.1)\n",
            "Requirement already satisfied: numpy>=1.13.3 in /usr/local/lib/python3.6/dist-packages (from scikit-learn-extra) (1.18.5)\n",
            "Requirement already satisfied: joblib>=0.11 in /usr/local/lib/python3.6/dist-packages (from scikit-learn>=0.21.0->scikit-learn-extra) (0.15.1)\n",
            "Building wheels for collected packages: scikit-learn-extra\n",
            "  Building wheel for scikit-learn-extra (PEP 517) ... \u001b[?25l\u001b[?25hdone\n",
            "  Created wheel for scikit-learn-extra: filename=scikit_learn_extra-0.1.0b2-cp36-cp36m-linux_x86_64.whl size=342086 sha256=a57d7498a3a7db7797301effe5b671d0276e6c1a6f19f45ce4a2e62aaad394e9\n",
            "  Stored in directory: /root/.cache/pip/wheels/04/01/0f/943bffb48bac048fa216b4325f1a6c939491ccb0ff500e08f4\n",
            "Successfully built scikit-learn-extra\n",
            "Installing collected packages: scikit-learn-extra\n",
            "Successfully installed scikit-learn-extra-0.1.0b2\n"
          ],
          "name": "stdout"
        }
      ]
    },
    {
      "cell_type": "code",
      "metadata": {
        "id": "fMVfOEXOV_6L",
        "colab_type": "code",
        "colab": {
          "base_uri": "https://localhost:8080/",
          "height": 71
        },
        "outputId": "199d1ac3-c05b-49a2-d6c3-19247af7d63e"
      },
      "source": [
        "import pandas as pd\n",
        "import numpy as np\n",
        "import matplotlib.pyplot as plt\n",
        "import matplotlib as mpl\n",
        "from sklearn import preprocessing\n",
        "from sklearn.datasets import load_iris\n",
        "import seaborn as sns\n",
        "from sklearn_extra.cluster import KMedoids\n",
        "from sklearn.datasets import load_digits\n",
        "from sklearn.datasets.samples_generator import make_blobs \n",
        "\n",
        "mpl.style.use(['ggplot'])\n",
        "plt.style.use(['seaborn-whitegrid'])"
      ],
      "execution_count": null,
      "outputs": [
        {
          "output_type": "stream",
          "text": [
            "/usr/local/lib/python3.6/dist-packages/sklearn/utils/deprecation.py:144: FutureWarning: The sklearn.datasets.samples_generator module is  deprecated in version 0.22 and will be removed in version 0.24. The corresponding classes / functions should instead be imported from sklearn.datasets. Anything that cannot be imported from sklearn.datasets is now part of the private API.\n",
            "  warnings.warn(message, FutureWarning)\n"
          ],
          "name": "stderr"
        }
      ]
    },
    {
      "cell_type": "markdown",
      "metadata": {
        "id": "-Uh-0gqxVRUR",
        "colab_type": "text"
      },
      "source": [
        "# About Dataset\n",
        "\n",
        "**Here we will use a adult_income dataset for predicting customer income.**\n",
        "\n",
        "**income is close or less than 0.5 ,person is not earning high income**\n",
        "\n",
        "**income is close or greater than 0.5 ,person is earning high income**"
      ]
    },
    {
      "cell_type": "code",
      "metadata": {
        "id": "APJ9SQQKzorD",
        "colab_type": "code",
        "colab": {
          "base_uri": "https://localhost:8080/",
          "height": 304
        },
        "outputId": "7574fb1c-0723-4320-e51f-46fe51bf7e16"
      },
      "source": [
        "import dice_ml\n",
        "from dice_ml.utils import helpers # helper functions\n",
        "import tensorflow\n",
        "# Dataset for training an ML model\n",
        "backend = 'TF'+tensorflow.__version__[0]\n",
        "\n",
        "d = dice_ml.Data(dataframe=helpers.load_adult_income_dataset(),\n",
        "                 continuous_features=['age','hours_per_week'],\n",
        "                 outcome_name='income')\n",
        "# Pre-trained ML model\n",
        "m = dice_ml.Model(model_path=dice_ml.utils.helpers.get_adult_income_modelpath(),backend=backend)\n",
        "# DiCE explanation instance\n",
        "exp = dice_ml.Dice(d,m)\n",
        "\n",
        "query_instance = {'age':22,\n",
        "    'workclass':'Private',\n",
        "    'education':'HS-grad',\n",
        "    'marital_status':'Single',\n",
        "    'occupation':'Service',\n",
        "    'race': 'White',\n",
        "    'gender':'Female',\n",
        "    'hours_per_week': 45}\n",
        "\n",
        "dice_exp = exp.generate_counterfactuals(query_instance, total_CFs=4, desired_class=\"opposite\")\n",
        "# Visualize counterfactual explanation\n",
        "dice_exp.visualize_as_dataframe()"
      ],
      "execution_count": null,
      "outputs": [
        {
          "output_type": "stream",
          "text": [
            "Diverse Counterfactuals found! total time taken: 00 min 27 sec\n",
            "Query instance (original outcome : 0)\n"
          ],
          "name": "stdout"
        },
        {
          "output_type": "display_data",
          "data": {
            "text/html": [
              "<div>\n",
              "<style scoped>\n",
              "    .dataframe tbody tr th:only-of-type {\n",
              "        vertical-align: middle;\n",
              "    }\n",
              "\n",
              "    .dataframe tbody tr th {\n",
              "        vertical-align: top;\n",
              "    }\n",
              "\n",
              "    .dataframe thead th {\n",
              "        text-align: right;\n",
              "    }\n",
              "</style>\n",
              "<table border=\"1\" class=\"dataframe\">\n",
              "  <thead>\n",
              "    <tr style=\"text-align: right;\">\n",
              "      <th></th>\n",
              "      <th>age</th>\n",
              "      <th>workclass</th>\n",
              "      <th>education</th>\n",
              "      <th>marital_status</th>\n",
              "      <th>occupation</th>\n",
              "      <th>race</th>\n",
              "      <th>gender</th>\n",
              "      <th>hours_per_week</th>\n",
              "      <th>income</th>\n",
              "    </tr>\n",
              "  </thead>\n",
              "  <tbody>\n",
              "    <tr>\n",
              "      <th>0</th>\n",
              "      <td>22.0</td>\n",
              "      <td>Private</td>\n",
              "      <td>HS-grad</td>\n",
              "      <td>Single</td>\n",
              "      <td>Service</td>\n",
              "      <td>White</td>\n",
              "      <td>Female</td>\n",
              "      <td>45.0</td>\n",
              "      <td>0.01904</td>\n",
              "    </tr>\n",
              "  </tbody>\n",
              "</table>\n",
              "</div>"
            ],
            "text/plain": [
              "    age workclass education  ...  gender hours_per_week   income\n",
              "0  22.0   Private   HS-grad  ...  Female           45.0  0.01904\n",
              "\n",
              "[1 rows x 9 columns]"
            ]
          },
          "metadata": {
            "tags": []
          }
        },
        {
          "output_type": "stream",
          "text": [
            "\n",
            "Diverse Counterfactual set (new outcome : 1)\n"
          ],
          "name": "stdout"
        },
        {
          "output_type": "display_data",
          "data": {
            "text/html": [
              "<div>\n",
              "<style scoped>\n",
              "    .dataframe tbody tr th:only-of-type {\n",
              "        vertical-align: middle;\n",
              "    }\n",
              "\n",
              "    .dataframe tbody tr th {\n",
              "        vertical-align: top;\n",
              "    }\n",
              "\n",
              "    .dataframe thead th {\n",
              "        text-align: right;\n",
              "    }\n",
              "</style>\n",
              "<table border=\"1\" class=\"dataframe\">\n",
              "  <thead>\n",
              "    <tr style=\"text-align: right;\">\n",
              "      <th></th>\n",
              "      <th>age</th>\n",
              "      <th>workclass</th>\n",
              "      <th>education</th>\n",
              "      <th>marital_status</th>\n",
              "      <th>occupation</th>\n",
              "      <th>race</th>\n",
              "      <th>gender</th>\n",
              "      <th>hours_per_week</th>\n",
              "      <th>income</th>\n",
              "    </tr>\n",
              "  </thead>\n",
              "  <tbody>\n",
              "    <tr>\n",
              "      <th>0</th>\n",
              "      <td>70.0</td>\n",
              "      <td>Private</td>\n",
              "      <td>Masters</td>\n",
              "      <td>Single</td>\n",
              "      <td>White-Collar</td>\n",
              "      <td>White</td>\n",
              "      <td>Female</td>\n",
              "      <td>51.0</td>\n",
              "      <td>0.534</td>\n",
              "    </tr>\n",
              "    <tr>\n",
              "      <th>1</th>\n",
              "      <td>22.0</td>\n",
              "      <td>Self-Employed</td>\n",
              "      <td>Doctorate</td>\n",
              "      <td>Married</td>\n",
              "      <td>Service</td>\n",
              "      <td>White</td>\n",
              "      <td>Female</td>\n",
              "      <td>45.0</td>\n",
              "      <td>0.861</td>\n",
              "    </tr>\n",
              "    <tr>\n",
              "      <th>2</th>\n",
              "      <td>47.0</td>\n",
              "      <td>Private</td>\n",
              "      <td>HS-grad</td>\n",
              "      <td>Married</td>\n",
              "      <td>Service</td>\n",
              "      <td>White</td>\n",
              "      <td>Female</td>\n",
              "      <td>45.0</td>\n",
              "      <td>0.589</td>\n",
              "    </tr>\n",
              "    <tr>\n",
              "      <th>3</th>\n",
              "      <td>36.0</td>\n",
              "      <td>Private</td>\n",
              "      <td>Prof-school</td>\n",
              "      <td>Married</td>\n",
              "      <td>Service</td>\n",
              "      <td>White</td>\n",
              "      <td>Female</td>\n",
              "      <td>62.0</td>\n",
              "      <td>0.937</td>\n",
              "    </tr>\n",
              "  </tbody>\n",
              "</table>\n",
              "</div>"
            ],
            "text/plain": [
              "    age      workclass    education  ...  gender hours_per_week income\n",
              "0  70.0        Private      Masters  ...  Female           51.0  0.534\n",
              "1  22.0  Self-Employed    Doctorate  ...  Female           45.0  0.861\n",
              "2  47.0        Private      HS-grad  ...  Female           45.0  0.589\n",
              "3  36.0        Private  Prof-school  ...  Female           62.0  0.937\n",
              "\n",
              "[4 rows x 9 columns]"
            ]
          },
          "metadata": {
            "tags": []
          }
        }
      ]
    },
    {
      "cell_type": "markdown",
      "metadata": {
        "id": "87LIngFm9ssr",
        "colab_type": "text"
      },
      "source": [
        "**Here we obsereved from above dataframe that if once's age is less than 40 and if one works for atleast 62 hours_per_week than it would result in one earning high income  i.e. 0.937 as is evident from the last row**\n",
        "\n",
        "**On the other hand we see that if one's age is greater than 60 and you work for more than 50 hours_per_week than also one's income would be less it is edvident from first row i.e if age is 70 and works for 51 hours than income will be low i.e. 0.534**\n",
        "\n",
        "**So age has impact on income it surely says that as age increases person can't do more hours_per_week work which results into less income**"
      ]
    },
    {
      "cell_type": "code",
      "metadata": {
        "id": "PyhVIOiP9iXV",
        "colab_type": "code",
        "colab": {
          "base_uri": "https://localhost:8080/",
          "height": 304
        },
        "outputId": "dadf1e22-07af-442d-8d38-6103b91a5530"
      },
      "source": [
        "query_instance = {'age':30,\n",
        "    'workclass':'Private',\n",
        "    'education':'HS-grad',\n",
        "    'marital_status':'Single',\n",
        "    'occupation':'Service',\n",
        "    'race': 'White',\n",
        "    'gender':'Male',\n",
        "    'hours_per_week': 30}\n",
        "\n",
        "dice_exp = exp.generate_counterfactuals(query_instance, total_CFs=4, desired_class=\"opposite\")\n",
        "# Visualize counterfactual explanation\n",
        "dice_exp.visualize_as_dataframe()"
      ],
      "execution_count": null,
      "outputs": [
        {
          "output_type": "stream",
          "text": [
            "Diverse Counterfactuals found! total time taken: 00 min 50 sec\n",
            "Query instance (original outcome : 0)\n"
          ],
          "name": "stdout"
        },
        {
          "output_type": "display_data",
          "data": {
            "text/html": [
              "<div>\n",
              "<style scoped>\n",
              "    .dataframe tbody tr th:only-of-type {\n",
              "        vertical-align: middle;\n",
              "    }\n",
              "\n",
              "    .dataframe tbody tr th {\n",
              "        vertical-align: top;\n",
              "    }\n",
              "\n",
              "    .dataframe thead th {\n",
              "        text-align: right;\n",
              "    }\n",
              "</style>\n",
              "<table border=\"1\" class=\"dataframe\">\n",
              "  <thead>\n",
              "    <tr style=\"text-align: right;\">\n",
              "      <th></th>\n",
              "      <th>age</th>\n",
              "      <th>workclass</th>\n",
              "      <th>education</th>\n",
              "      <th>marital_status</th>\n",
              "      <th>occupation</th>\n",
              "      <th>race</th>\n",
              "      <th>gender</th>\n",
              "      <th>hours_per_week</th>\n",
              "      <th>income</th>\n",
              "    </tr>\n",
              "  </thead>\n",
              "  <tbody>\n",
              "    <tr>\n",
              "      <th>0</th>\n",
              "      <td>30.0</td>\n",
              "      <td>Private</td>\n",
              "      <td>HS-grad</td>\n",
              "      <td>Single</td>\n",
              "      <td>Service</td>\n",
              "      <td>White</td>\n",
              "      <td>Male</td>\n",
              "      <td>30.0</td>\n",
              "      <td>0.024504</td>\n",
              "    </tr>\n",
              "  </tbody>\n",
              "</table>\n",
              "</div>"
            ],
            "text/plain": [
              "    age workclass education  ... gender hours_per_week    income\n",
              "0  30.0   Private   HS-grad  ...   Male           30.0  0.024504\n",
              "\n",
              "[1 rows x 9 columns]"
            ]
          },
          "metadata": {
            "tags": []
          }
        },
        {
          "output_type": "stream",
          "text": [
            "\n",
            "Diverse Counterfactual set (new outcome : 1)\n"
          ],
          "name": "stdout"
        },
        {
          "output_type": "display_data",
          "data": {
            "text/html": [
              "<div>\n",
              "<style scoped>\n",
              "    .dataframe tbody tr th:only-of-type {\n",
              "        vertical-align: middle;\n",
              "    }\n",
              "\n",
              "    .dataframe tbody tr th {\n",
              "        vertical-align: top;\n",
              "    }\n",
              "\n",
              "    .dataframe thead th {\n",
              "        text-align: right;\n",
              "    }\n",
              "</style>\n",
              "<table border=\"1\" class=\"dataframe\">\n",
              "  <thead>\n",
              "    <tr style=\"text-align: right;\">\n",
              "      <th></th>\n",
              "      <th>age</th>\n",
              "      <th>workclass</th>\n",
              "      <th>education</th>\n",
              "      <th>marital_status</th>\n",
              "      <th>occupation</th>\n",
              "      <th>race</th>\n",
              "      <th>gender</th>\n",
              "      <th>hours_per_week</th>\n",
              "      <th>income</th>\n",
              "    </tr>\n",
              "  </thead>\n",
              "  <tbody>\n",
              "    <tr>\n",
              "      <th>0</th>\n",
              "      <td>61.0</td>\n",
              "      <td>Private</td>\n",
              "      <td>Prof-school</td>\n",
              "      <td>Married</td>\n",
              "      <td>Service</td>\n",
              "      <td>White</td>\n",
              "      <td>Female</td>\n",
              "      <td>30.0</td>\n",
              "      <td>0.833</td>\n",
              "    </tr>\n",
              "    <tr>\n",
              "      <th>1</th>\n",
              "      <td>40.0</td>\n",
              "      <td>Self-Employed</td>\n",
              "      <td>Doctorate</td>\n",
              "      <td>Married</td>\n",
              "      <td>Service</td>\n",
              "      <td>White</td>\n",
              "      <td>Male</td>\n",
              "      <td>30.0</td>\n",
              "      <td>0.867</td>\n",
              "    </tr>\n",
              "    <tr>\n",
              "      <th>2</th>\n",
              "      <td>47.0</td>\n",
              "      <td>Private</td>\n",
              "      <td>Masters</td>\n",
              "      <td>Married</td>\n",
              "      <td>Professional</td>\n",
              "      <td>White</td>\n",
              "      <td>Male</td>\n",
              "      <td>30.0</td>\n",
              "      <td>0.816</td>\n",
              "    </tr>\n",
              "    <tr>\n",
              "      <th>3</th>\n",
              "      <td>45.0</td>\n",
              "      <td>Private</td>\n",
              "      <td>Prof-school</td>\n",
              "      <td>Married</td>\n",
              "      <td>Service</td>\n",
              "      <td>White</td>\n",
              "      <td>Male</td>\n",
              "      <td>56.0</td>\n",
              "      <td>0.927</td>\n",
              "    </tr>\n",
              "  </tbody>\n",
              "</table>\n",
              "</div>"
            ],
            "text/plain": [
              "    age      workclass    education  ...  gender hours_per_week income\n",
              "0  61.0        Private  Prof-school  ...  Female           30.0  0.833\n",
              "1  40.0  Self-Employed    Doctorate  ...    Male           30.0  0.867\n",
              "2  47.0        Private      Masters  ...    Male           30.0  0.816\n",
              "3  45.0        Private  Prof-school  ...    Male           56.0  0.927\n",
              "\n",
              "[4 rows x 9 columns]"
            ]
          },
          "metadata": {
            "tags": []
          }
        }
      ]
    },
    {
      "cell_type": "markdown",
      "metadata": {
        "id": "MEYPmKSX_kkz",
        "colab_type": "text"
      },
      "source": [
        "**Here we can  see that iformation generated by counterfactual method state that  education level and age both has impact on income** \n",
        "\n",
        "**As shown in the 3 row there is Male with age=47 and has less education level=Masters is paid less income than a Female with age 61 and education=Prof-School**\n",
        "\n",
        "**Thus what we obsereved is education level and age both are having imapct on income earned by an individual**"
      ]
    },
    {
      "cell_type": "markdown",
      "metadata": {
        "id": "9VPSdXNkYQIq",
        "colab_type": "text"
      },
      "source": [
        "#Adversarial Examples"
      ]
    },
    {
      "cell_type": "code",
      "metadata": {
        "id": "LTba6gTa-GMu",
        "colab_type": "code",
        "colab": {
          "base_uri": "https://localhost:8080/",
          "height": 731
        },
        "outputId": "5413c1a7-3920-4816-e50e-8c104232a4fd"
      },
      "source": [
        "import tensorflow as tf\n",
        "print(tf.__version__)\n",
        "mnist = tf.keras.datasets.fashion_mnist\n",
        "(training_images, training_labels), (test_images, test_labels) = mnist.load_data()\n",
        "training_images=training_images.reshape(60000, 28, 28, 1)\n",
        "training_images=training_images / 255.0\n",
        "test_images = test_images.reshape(10000, 28, 28, 1)\n",
        "test_images=test_images/255.0\n",
        "model = tf.keras.models.Sequential([\n",
        "  tf.keras.layers.Conv2D(64, (3,3), activation='relu', input_shape=(28, 28, 1)),\n",
        "  tf.keras.layers.MaxPooling2D(2, 2),\n",
        "  tf.keras.layers.Conv2D(64, (3,3), activation='relu'),\n",
        "  tf.keras.layers.MaxPooling2D(2,2),\n",
        "  tf.keras.layers.Flatten(),\n",
        "  tf.keras.layers.Dense(128, activation='relu'),\n",
        "  tf.keras.layers.Dense(10, activation='softmax')\n",
        "])\n",
        "model.compile(optimizer='adam', loss='sparse_categorical_crossentropy', metrics=['accuracy'])\n",
        "model.summary()\n",
        "model.fit(training_images, training_labels, epochs=5)\n",
        "test_loss = model.evaluate(test_images, test_labels)\n"
      ],
      "execution_count": null,
      "outputs": [
        {
          "output_type": "stream",
          "text": [
            "2.2.0\n",
            "Downloading data from https://storage.googleapis.com/tensorflow/tf-keras-datasets/train-labels-idx1-ubyte.gz\n",
            "32768/29515 [=================================] - 0s 0us/step\n",
            "Downloading data from https://storage.googleapis.com/tensorflow/tf-keras-datasets/train-images-idx3-ubyte.gz\n",
            "26427392/26421880 [==============================] - 0s 0us/step\n",
            "Downloading data from https://storage.googleapis.com/tensorflow/tf-keras-datasets/t10k-labels-idx1-ubyte.gz\n",
            "8192/5148 [===============================================] - 0s 0us/step\n",
            "Downloading data from https://storage.googleapis.com/tensorflow/tf-keras-datasets/t10k-images-idx3-ubyte.gz\n",
            "4423680/4422102 [==============================] - 0s 0us/step\n",
            "Model: \"sequential\"\n",
            "_________________________________________________________________\n",
            "Layer (type)                 Output Shape              Param #   \n",
            "=================================================================\n",
            "conv2d (Conv2D)              (None, 26, 26, 64)        640       \n",
            "_________________________________________________________________\n",
            "max_pooling2d (MaxPooling2D) (None, 13, 13, 64)        0         \n",
            "_________________________________________________________________\n",
            "conv2d_1 (Conv2D)            (None, 11, 11, 64)        36928     \n",
            "_________________________________________________________________\n",
            "max_pooling2d_1 (MaxPooling2 (None, 5, 5, 64)          0         \n",
            "_________________________________________________________________\n",
            "flatten (Flatten)            (None, 1600)              0         \n",
            "_________________________________________________________________\n",
            "dense (Dense)                (None, 128)               204928    \n",
            "_________________________________________________________________\n",
            "dense_1 (Dense)              (None, 10)                1290      \n",
            "=================================================================\n",
            "Total params: 243,786\n",
            "Trainable params: 243,786\n",
            "Non-trainable params: 0\n",
            "_________________________________________________________________\n",
            "Epoch 1/5\n",
            "1875/1875 [==============================] - 82s 44ms/step - loss: 0.4386 - accuracy: 0.8413\n",
            "Epoch 2/5\n",
            "1875/1875 [==============================] - 82s 43ms/step - loss: 0.2926 - accuracy: 0.8939\n",
            "Epoch 3/5\n",
            "1875/1875 [==============================] - 81s 43ms/step - loss: 0.2479 - accuracy: 0.9078\n",
            "Epoch 4/5\n",
            "1875/1875 [==============================] - 82s 44ms/step - loss: 0.2176 - accuracy: 0.9184\n",
            "Epoch 5/5\n",
            "1875/1875 [==============================] - 81s 43ms/step - loss: 0.1912 - accuracy: 0.9298\n",
            "313/313 [==============================] - 4s 13ms/step - loss: 0.2490 - accuracy: 0.9086\n"
          ],
          "name": "stdout"
        }
      ]
    },
    {
      "cell_type": "code",
      "metadata": {
        "id": "uMUBxMlZBYhf",
        "colab_type": "code",
        "colab": {
          "base_uri": "https://localhost:8080/",
          "height": 262
        },
        "outputId": "1befd9a8-aca6-448a-b05f-2cab0fe379d7"
      },
      "source": [
        "(training_images, training_labels), (test_images, test_labels) = mnist.load_data()\n",
        "test_img=test_images[0]\n",
        "plt.imshow(test_img,cmap='gray')\n",
        "plt.show()"
      ],
      "execution_count": null,
      "outputs": [
        {
          "output_type": "display_data",
          "data": {
            "image/png": "[encoded data removed]",
            "text/plain": [
              "<Figure size 432x288 with 1 Axes>"
            ]
          },
          "metadata": {
            "tags": []
          }
        }
      ]
    },
    {
      "cell_type": "code",
      "metadata": {
        "id": "9yraS_G4CLFb",
        "colab_type": "code",
        "colab": {
          "base_uri": "https://localhost:8080/",
          "height": 969
        },
        "outputId": "f40e0a77-58c0-407d-b24d-51bfd57d870e"
      },
      "source": [
        "print(test_img)"
      ],
      "execution_count": null,
      "outputs": [
        {
          "output_type": "stream",
          "text": [
            "[[  0   0   0   0   0   0   0   0   0   0   0   0   0   0   0   0   0   0\n",
            "    0   0   0   0   0   0   0   0   0   0]\n",
            " [  0   0   0   0   0   0   0   0   0   0   0   0   0   0   0   0   0   0\n",
            "    0   0   0   0   0   0   0   0   0   0]\n",
            " [  0   0   0   0   0   0   0   0   0   0   0   0   0   0   0   0   0   0\n",
            "    0   0   0   0   0   0   0   0   0   0]\n",
            " [  0   0   0   0   0   0   0   0   0   0   0   0   0   0   0   0   0   0\n",
            "    0   0   0   0   0   0   0   0   0   0]\n",
            " [  0   0   0   0   0   0   0   0   0   0   0   0   0   0   0   0   0   0\n",
            "    0   0   0   0   0   0   0   0   0   0]\n",
            " [  0   0   0   0   0   0   0   0   0   0   0   0   0   0   0   0   0   0\n",
            "    0   0   0   0   0   0   0   0   0   0]\n",
            " [  0   0   0   0   0   0   0   0   0   0   0   0   0   0   0   0   0   0\n",
            "    0   0   0   0   0   0   0   0   0   0]\n",
            " [  0   0   0   0   0   0   0   0   0   0   0   0   0   0   0   0   0   0\n",
            "    0   3   1   0   0   7   0  37   0   0]\n",
            " [  0   0   0   0   0   0   0   0   0   0   0   0   0   1   2   0  27  84\n",
            "   11   0   0   0   0   0   0 119   0   0]\n",
            " [  0   0   0   0   0   0   0   0   0   0   0   0   0   1   0   0  88 143\n",
            "  110   0   0   0   0  22  93 106   0   0]\n",
            " [  0   0   0   0   0   0   0   0   0   0   0   0   0   4   0  53 129 120\n",
            "  147 175 157 166 135 154 168 140   0   0]\n",
            " [  0   0   0   0   0   0   0   0   0   0   0   0   2   0  11 137 130 128\n",
            "  160 176 159 167 178 149 151 144   0   0]\n",
            " [  0   0   0   0   0   0   1   0   2   1   0   3   0   0 115 114 106 137\n",
            "  168 153 156 165 167 143 157 158  11   0]\n",
            " [  0   0   0   0   1   0   0   0   0   0   3   0   0  89 139  90  94 153\n",
            "  149 131 151 169 172 143 159 169  48   0]\n",
            " [  0   0   0   0   0   0   2   4   1   0   0   0  98 136 110 109 110 162\n",
            "  135 144 149 159 167 144 158 169 119   0]\n",
            " [  0   0   2   2   1   2   0   0   0   0  26 108 117  99 111 117 136 156\n",
            "  134 154 154 156 160 141 147 156 178   0]\n",
            " [  3   0   0   0   0   0   0  21  53  92 117 111 103 115 129 134 143 154\n",
            "  165 170 154 151 154 143 138 150 165  43]\n",
            " [  0   0  23  54  65  76  85 118 128 123 111 113 118 127 125 139 133 136\n",
            "  160 140 155 161 144 155 172 161 189  62]\n",
            " [  0  68  94  90 111 114 111 114 115 127 135 136 143 126 127 151 154 143\n",
            "  148 125 162 162 144 138 153 162 196  58]\n",
            " [ 70 169 129 104  98 100  94  97  98 102 108 106 119 120 129 149 156 167\n",
            "  190 190 196 198 198 187 197 189 184  36]\n",
            " [ 16 126 171 188 188 184 171 153 135 120 126 127 146 185 195 209 208 255\n",
            "  209 177 245 252 251 251 247 220 206  49]\n",
            " [  0   0   0  12  67 106 164 185 199 210 211 210 208 190 150  82   8   0\n",
            "    0   0 178 208 188 175 162 158 151  11]\n",
            " [  0   0   0   0   0   0   0   0   0   0   0   0   0   0   0   0   0   0\n",
            "    0   0   0   0   0   0   0   0   0   0]\n",
            " [  0   0   0   0   0   0   0   0   0   0   0   0   0   0   0   0   0   0\n",
            "    0   0   0   0   0   0   0   0   0   0]\n",
            " [  0   0   0   0   0   0   0   0   0   0   0   0   0   0   0   0   0   0\n",
            "    0   0   0   0   0   0   0   0   0   0]\n",
            " [  0   0   0   0   0   0   0   0   0   0   0   0   0   0   0   0   0   0\n",
            "    0   0   0   0   0   0   0   0   0   0]\n",
            " [  0   0   0   0   0   0   0   0   0   0   0   0   0   0   0   0   0   0\n",
            "    0   0   0   0   0   0   0   0   0   0]\n",
            " [  0   0   0   0   0   0   0   0   0   0   0   0   0   0   0   0   0   0\n",
            "    0   0   0   0   0   0   0   0   0   0]]\n"
          ],
          "name": "stdout"
        }
      ]
    },
    {
      "cell_type": "code",
      "metadata": {
        "id": "ZrPahep8CRWa",
        "colab_type": "code",
        "colab": {}
      },
      "source": [
        "test_images = test_images.reshape(10000, 28, 28, 1)\n",
        "#test_images=test_images/255.0\n",
        "test_img=test_images[0]"
      ],
      "execution_count": null,
      "outputs": []
    },
    {
      "cell_type": "code",
      "metadata": {
        "id": "xblMzh_PHuB8",
        "colab_type": "code",
        "colab": {
          "base_uri": "https://localhost:8080/",
          "height": 1000
        },
        "outputId": "a4f87a98-d1fc-4ade-d061-1c3994529c4b"
      },
      "source": [
        "im_norm = lambda i: (i.astype(np.float32)-i.min()) / (i.max()-i.min())\n",
        "im=test_img.reshape(28,28)\n",
        "im_adversarial = lambda pert: im + np.random.uniform(0, pert, size=im.shape)\n",
        "perturbations = [4, 8, 16, 32, 64, 128, 256]\n",
        "fig, ax = plt.subplots(4, 2, figsize=(14, 28))\n",
        "\n",
        "ax = ax.ravel()\n",
        "\n",
        "for i, perturbation in enumerate(perturbations, 1):\n",
        "    ax[i].imshow(im_norm(im_adversarial(perturbation)), interpolation='nearest')"
      ],
      "execution_count": null,
      "outputs": [
        {
          "output_type": "display_data",
          "data": {
            "image/png": "[encoded data removed]",
            "text/plain": [
              "<Figure size 1008x2016 with 8 Axes>"
            ]
          },
          "metadata": {
            "tags": []
          }
        }
      ]
    },
    {
      "cell_type": "markdown",
      "metadata": {
        "id": "NZD6xVLqAY4C",
        "colab_type": "text"
      },
      "source": [
        "**In the above plot we have perturbate the image with different perturbations so every time we predict the modl gives diffrent output in this way we generate the Adversarial Examples that fools machine learning model**"
      ]
    },
    {
      "cell_type": "code",
      "metadata": {
        "id": "Ywd1ZXET-xQF",
        "colab_type": "code",
        "colab": {
          "base_uri": "https://localhost:8080/",
          "height": 34
        },
        "outputId": "1bfa2fc9-d905-489b-eb07-4240d4806847"
      },
      "source": [
        "test=im_norm(im_adversarial(8))\n",
        "test=test/255\n",
        "test=test.reshape(-1,28,28,1)\n",
        "pred=model.predict(test)\n",
        "label=pred[0]\n",
        "labelNames = [\"top\", \"trouser\", \"pullover\", \"dress\", \"coat\",\n",
        "\t\"sandal\", \"shirt\", \"sneaker\", \"bag\", \"ankle boot\"]\n",
        "index=0\n",
        "max=0\n",
        "for i in range(0,label.shape[0]):\n",
        "  if(max<label[i]):\n",
        "    max=label[i]\n",
        "    index=i\n",
        "output=labelNames[index]\n",
        "print(output)"
      ],
      "execution_count": null,
      "outputs": [
        {
          "output_type": "stream",
          "text": [
            "sandal\n"
          ],
          "name": "stdout"
        }
      ]
    },
    {
      "cell_type": "markdown",
      "metadata": {
        "id": "uqHGJouOA1uT",
        "colab_type": "text"
      },
      "source": [
        "**So as we can see we had passed Image of an ankelboot but the output obtained was of sandal so one can run above cell and will get diffrent output every time based on the probability bias that model gives while predicting the class**"
      ]
    },
    {
      "cell_type": "markdown",
      "metadata": {
        "id": "RympuQxyYIdI",
        "colab_type": "text"
      },
      "source": [
        "#Influential Instances\n",
        "\n",
        "**Here we had created the dataset that contains number of rooms and price of houses according to respective room**"
      ]
    },
    {
      "cell_type": "markdown",
      "metadata": {
        "id": "Nc87CijQVZB_",
        "colab_type": "text"
      },
      "source": [
        "**Details related to example**\n",
        "\n",
        "**So here we have created example where house with number of rooms and it's corresponding price is stored**"
      ]
    },
    {
      "cell_type": "code",
      "metadata": {
        "id": "QHowtM_dQftw",
        "colab_type": "code",
        "colab": {
          "base_uri": "https://localhost:8080/",
          "height": 71
        },
        "outputId": "d10bef6f-8851-43ab-b529-efccf7c9d257"
      },
      "source": [
        "import numpy as np\n",
        "X=[]\n",
        "y=[]\n",
        "for j in range(0,100): \n",
        "      i=np.random.randint(1, 7) \n",
        "      X.append(i)\n",
        "      i=np.random.randint(1000,5000)\n",
        "      y.append(i)\n",
        "for j in range(0,5):\n",
        "      i=np.random.randint(30,40)\n",
        "      X.append(i)\n",
        "      i=np.random.randint(8000,11000)\n",
        "      y.append(i)     \n",
        "    \n",
        "print(X)\n",
        "print(y)"
      ],
      "execution_count": null,
      "outputs": [
        {
          "output_type": "stream",
          "text": [
            "[2, 6, 4, 3, 1, 5, 3, 4, 5, 3, 4, 3, 4, 4, 3, 1, 6, 2, 1, 4, 6, 5, 3, 3, 1, 6, 2, 2, 2, 5, 1, 4, 1, 6, 6, 3, 6, 3, 6, 1, 1, 1, 4, 2, 6, 4, 4, 2, 1, 5, 5, 2, 5, 6, 2, 2, 1, 6, 3, 5, 1, 2, 3, 6, 4, 6, 6, 2, 2, 4, 5, 3, 4, 3, 6, 1, 2, 1, 2, 2, 6, 3, 2, 2, 4, 4, 5, 2, 6, 4, 3, 5, 5, 5, 1, 2, 5, 5, 5, 2, 38, 31, 32, 30, 32]\n",
            "[4723, 1652, 4778, 1862, 4189, 2191, 2283, 3155, 2021, 4979, 4189, 2117, 3233, 3271, 3251, 1710, 2177, 2783, 2802, 1670, 4627, 3285, 2457, 2672, 3560, 4555, 3877, 1176, 4108, 3216, 2344, 4301, 2523, 2763, 1961, 2232, 1636, 1921, 3133, 2127, 2093, 3862, 3496, 2677, 4885, 4153, 2369, 1729, 2126, 1496, 2857, 4763, 1293, 1592, 2565, 1098, 1838, 2178, 3212, 1090, 2775, 3087, 3697, 3051, 3955, 3659, 3571, 1314, 1638, 4470, 4847, 4381, 2849, 2600, 1034, 4956, 2494, 1826, 4497, 4868, 4777, 4697, 2117, 3116, 1488, 1383, 4893, 2791, 3501, 3839, 3595, 3970, 1694, 2387, 2110, 4437, 2578, 1664, 3413, 3424, 8184, 10462, 10558, 8802, 8530]\n"
          ],
          "name": "stdout"
        }
      ]
    },
    {
      "cell_type": "markdown",
      "metadata": {
        "id": "Izrm54pBVvOn",
        "colab_type": "text"
      },
      "source": [
        "**So the below figure shows the outliers away from boxplot**"
      ]
    },
    {
      "cell_type": "code",
      "metadata": {
        "id": "Bf8luLfzgZdh",
        "colab_type": "code",
        "colab": {
          "base_uri": "https://localhost:8080/",
          "height": 278
        },
        "outputId": "000744fd-c4d8-4bca-d93e-7e9ed6a5cc85"
      },
      "source": [
        "sns.boxplot(X,color='lightblue')\n",
        "plt.xlabel('Number of Rooms')\n",
        "plt.show()"
      ],
      "execution_count": null,
      "outputs": [
        {
          "output_type": "display_data",
          "data": {
            "image/png": "[encoded data removed]",
            "text/plain": [
              "<Figure size 432x288 with 1 Axes>"
            ]
          },
          "metadata": {
            "tags": []
          }
        }
      ]
    },
    {
      "cell_type": "code",
      "metadata": {
        "id": "J6WjrLTpm1MD",
        "colab_type": "code",
        "colab": {
          "base_uri": "https://localhost:8080/",
          "height": 278
        },
        "outputId": "90b0f6d5-5699-484d-8c0f-04a9a117f97d"
      },
      "source": [
        "sns.boxplot(y,color='green')\n",
        "plt.xlabel('Price of house')\n",
        "plt.show()"
      ],
      "execution_count": null,
      "outputs": [
        {
          "output_type": "display_data",
          "data": {
            "image/png": "[encoded data removed]",
            "text/plain": [
              "<Figure size 432x288 with 1 Axes>"
            ]
          },
          "metadata": {
            "tags": []
          }
        }
      ]
    },
    {
      "cell_type": "code",
      "metadata": {
        "id": "_NcG2lSpm7qq",
        "colab_type": "code",
        "colab": {
          "base_uri": "https://localhost:8080/",
          "height": 278
        },
        "outputId": "fd57f9c7-dde2-4346-d1b3-81e77c2952ab"
      },
      "source": [
        "plt.scatter(X,y,color='green')\n",
        "plt.xlabel('Number of Rooms')\n",
        "plt.ylabel('Price of House')\n",
        "plt.show()"
      ],
      "execution_count": null,
      "outputs": [
        {
          "output_type": "display_data",
          "data": {
            "image/png": "[encoded data removed]",
            "text/plain": [
              "<Figure size 432x288 with 1 Axes>"
            ]
          },
          "metadata": {
            "tags": []
          }
        }
      ]
    },
    {
      "cell_type": "markdown",
      "metadata": {
        "id": "UxGZVWU6B7ie",
        "colab_type": "text"
      },
      "source": [
        "**Finding the mean of Safe points**\n",
        "\n",
        "**So we find safe points that does'nt influence in model's change in target prediction class**"
      ]
    },
    {
      "cell_type": "code",
      "metadata": {
        "id": "SnlgGqphnLj8",
        "colab_type": "code",
        "colab": {
          "base_uri": "https://localhost:8080/",
          "height": 34
        },
        "outputId": "3897b5e6-fbbd-47a0-f989-7f8097368eed"
      },
      "source": [
        "a=[]\n",
        "b=[]\n",
        "for i in range(len(X)):\n",
        "  if(i<=99):\n",
        "    a.append(X[i])\n",
        "    b.append(y[i])\n",
        "a=np.array(a)\n",
        "b=np.array(b)\n",
        "x_mean=np.mean(a)\n",
        "y_mean=np.mean(b)\n",
        "print('Mean Values of normal points :: ',x_mean,y_mean)"
      ],
      "execution_count": null,
      "outputs": [
        {
          "output_type": "stream",
          "text": [
            "Mean Values of normal points ::  3.48 2963.25\n"
          ],
          "name": "stdout"
        }
      ]
    },
    {
      "cell_type": "markdown",
      "metadata": {
        "id": "KZ-BScYQCDYD",
        "colab_type": "text"
      },
      "source": [
        "**Finding mean of Influential Points that  affect's classifiers accuracy**"
      ]
    },
    {
      "cell_type": "code",
      "metadata": {
        "id": "GbRB52JNpdWD",
        "colab_type": "code",
        "colab": {
          "base_uri": "https://localhost:8080/",
          "height": 34
        },
        "outputId": "1e397db6-3b2d-4c86-eb3c-94339535d665"
      },
      "source": [
        "a=[]\n",
        "b=[]\n",
        "for i in range(len(X)):\n",
        "  if(i>99):\n",
        "    a.append(X[i])\n",
        "    b.append(y[i])\n",
        "a=np.array(a)\n",
        "b=np.array(b)\n",
        "xo_mean=np.mean(a)\n",
        "yo_mean=np.mean(b)\n",
        "print('Mean Values of oulier points :: ',xo_mean,yo_mean)"
      ],
      "execution_count": null,
      "outputs": [
        {
          "output_type": "stream",
          "text": [
            "Mean Values of oulier points ::  32.6 9307.2\n"
          ],
          "name": "stdout"
        }
      ]
    },
    {
      "cell_type": "code",
      "metadata": {
        "id": "Uvqv5yCvoopB",
        "colab_type": "code",
        "colab": {
          "base_uri": "https://localhost:8080/",
          "height": 278
        },
        "outputId": "215239d6-3966-4e00-b5d3-68a076190015"
      },
      "source": [
        "plt.scatter(X,y,color='green')\n",
        "plt.scatter(x_mean,y_mean,color='magenta',label='No_Effect_On_training')\n",
        "plt.scatter(xo_mean,yo_mean,color='darkblue',label='Effect_On_training')\n",
        "plt.xlabel('Number of Rooms')\n",
        "plt.ylabel('Price of House')\n",
        "plt.legend()\n",
        "plt.show()"
      ],
      "execution_count": null,
      "outputs": [
        {
          "output_type": "display_data",
          "data": {
            "image/png": "[encoded data removed]",
            "text/plain": [
              "<Figure size 432x288 with 1 Axes>"
            ]
          },
          "metadata": {
            "tags": []
          }
        }
      ]
    },
    {
      "cell_type": "markdown",
      "metadata": {
        "id": "5kSnq-p6p8xk",
        "colab_type": "text"
      },
      "source": [
        "**Building Model**"
      ]
    },
    {
      "cell_type": "code",
      "metadata": {
        "id": "SJPuHpl6p8Pe",
        "colab_type": "code",
        "colab": {}
      },
      "source": [
        "from sklearn.linear_model import LinearRegression\n",
        "X=np.asarray(X)\n",
        "y=np.asarray(y)\n",
        "X=X.reshape(-1,1)\n",
        "y=y.reshape(-1,1)\n",
        "model=LinearRegression(normalize=True)\n",
        "reg = model.fit(X, y)"
      ],
      "execution_count": null,
      "outputs": []
    },
    {
      "cell_type": "code",
      "metadata": {
        "id": "KoxkczT1qiP5",
        "colab_type": "code",
        "colab": {
          "base_uri": "https://localhost:8080/",
          "height": 51
        },
        "outputId": "143a648b-5c0e-4c2c-efd2-03f111b2bf4d"
      },
      "source": [
        "X_pred=[2,4,6]\n",
        "y_pred=[2860,3012,3169]    \n",
        "    \n",
        "print(X_pred)\n",
        "print(y_pred)"
      ],
      "execution_count": null,
      "outputs": [
        {
          "output_type": "stream",
          "text": [
            "[2, 4, 6]\n",
            "[2860, 3012, 3169]\n"
          ],
          "name": "stdout"
        }
      ]
    },
    {
      "cell_type": "code",
      "metadata": {
        "id": "gLQnWc2lrZuD",
        "colab_type": "code",
        "colab": {
          "base_uri": "https://localhost:8080/",
          "height": 68
        },
        "outputId": "af244ace-1533-4d27-f445-9f4a6be90dc5"
      },
      "source": [
        "X_pred=np.asarray(X_pred)\n",
        "X_pred=X_pred.reshape(-1,1)\n",
        "y_hat=model.predict(X_pred)\n",
        "print(y_hat)"
      ],
      "execution_count": null,
      "outputs": [
        {
          "output_type": "stream",
          "text": [
            "[[2690.28410741]\n",
            " [3091.48788629]\n",
            " [3492.69166518]]\n"
          ],
          "name": "stdout"
        }
      ]
    },
    {
      "cell_type": "markdown",
      "metadata": {
        "id": "8ux-7ZQdrpeB",
        "colab_type": "text"
      },
      "source": [
        "**Let's take out model's accuracy**"
      ]
    },
    {
      "cell_type": "code",
      "metadata": {
        "id": "CV8Xf2joru7c",
        "colab_type": "code",
        "colab": {
          "base_uri": "https://localhost:8080/",
          "height": 34
        },
        "outputId": "582723bf-83b5-43e8-b372-8b5328a7eae8"
      },
      "source": [
        "y_pred=np.asarray(y_pred)\n",
        "y_pred=y_pred.reshape(-1,1)\n",
        "err=np.mean(np.abs(y_hat-y_pred))\n",
        "print(err)"
      ],
      "execution_count": null,
      "outputs": [
        {
          "output_type": "stream",
          "text": [
            "190.96514802007627\n"
          ],
          "name": "stdout"
        }
      ]
    },
    {
      "cell_type": "markdown",
      "metadata": {
        "id": "6vcR4pd4sfDk",
        "colab_type": "text"
      },
      "source": [
        "**Now we remove the potential harmful 10 points that we had added and see models performance**"
      ]
    },
    {
      "cell_type": "code",
      "metadata": {
        "id": "Ik7AY0dDsm81",
        "colab_type": "code",
        "colab": {
          "base_uri": "https://localhost:8080/",
          "height": 34
        },
        "outputId": "95c21017-c0a2-4718-ffaf-3cf52d5bb526"
      },
      "source": [
        "a=[]\n",
        "b=[]\n",
        "for i in range(len(X)):\n",
        "  if(i<=99):\n",
        "    a.append(X[i])\n",
        "    b.append(y[i])\n",
        "X_safe=np.array(a)\n",
        "X_safe=X_safe.reshape(-1,1)\n",
        "y_safe=np.array(b)\n",
        "y_safe=y_safe.reshape(-1,1)\n",
        "model2=LinearRegression(normalize=True)\n",
        "model2.fit(X_safe,y_safe)"
      ],
      "execution_count": null,
      "outputs": [
        {
          "output_type": "execute_result",
          "data": {
            "text/plain": [
              "LinearRegression(copy_X=True, fit_intercept=True, n_jobs=None, normalize=True)"
            ]
          },
          "metadata": {
            "tags": []
          },
          "execution_count": 26
        }
      ]
    },
    {
      "cell_type": "code",
      "metadata": {
        "id": "EHNwmPlqtaNw",
        "colab_type": "code",
        "colab": {
          "base_uri": "https://localhost:8080/",
          "height": 68
        },
        "outputId": "13aa0f3f-80c4-41fb-dc33-6aa27aee7d54"
      },
      "source": [
        "y_hat_safe=model2.predict(X_pred)\n",
        "print(y_hat_safe)"
      ],
      "execution_count": null,
      "outputs": [
        {
          "output_type": "stream",
          "text": [
            "[[2945.72662909]\n",
            " [2969.40686005]\n",
            " [2993.08709101]]\n"
          ],
          "name": "stdout"
        }
      ]
    },
    {
      "cell_type": "code",
      "metadata": {
        "id": "JIfQZgBtt5_n",
        "colab_type": "code",
        "colab": {
          "base_uri": "https://localhost:8080/",
          "height": 68
        },
        "outputId": "4362b4db-a79c-497b-96db-6e295261d2af"
      },
      "source": [
        "print(y_pred)"
      ],
      "execution_count": null,
      "outputs": [
        {
          "output_type": "stream",
          "text": [
            "[[2860]\n",
            " [3012]\n",
            " [3169]]\n"
          ],
          "name": "stdout"
        }
      ]
    },
    {
      "cell_type": "code",
      "metadata": {
        "id": "VAix8WNgtj8A",
        "colab_type": "code",
        "colab": {
          "base_uri": "https://localhost:8080/",
          "height": 34
        },
        "outputId": "39a09f76-f1c2-4606-e6c8-55dc82e69bbb"
      },
      "source": [
        "err=np.mean(np.abs(y_hat_safe-y_pred))\n",
        "print(err)"
      ],
      "execution_count": null,
      "outputs": [
        {
          "output_type": "stream",
          "text": [
            "101.41089267711489\n"
          ],
          "name": "stdout"
        }
      ]
    },
    {
      "cell_type": "markdown",
      "metadata": {
        "id": "apUwFG550QsK",
        "colab_type": "text"
      },
      "source": [
        "**So here we can see we got error of 175.5193396413159  in contradiction with error of 216.16176647643792**\n",
        "\n",
        "**So here we see that model after removing outliers performs better** \n",
        "\n",
        "**This error will vary as datapoints are generated at random but we will surely obtain less error that the one we obtained in influential points were there**"
      ]
    },
    {
      "cell_type": "markdown",
      "metadata": {
        "id": "GIXrNsQik0Ri",
        "colab_type": "text"
      },
      "source": [
        "# Prototypes And Criticism"
      ]
    },
    {
      "cell_type": "markdown",
      "metadata": {
        "id": "4ZJ7sb-_0ERs",
        "colab_type": "text"
      },
      "source": [
        "**Process to find Prototype**\n",
        "\n",
        "**A prototype is a data instance that is representative of all the data**\n",
        "\n",
        "**So here we can find prototype by  K-Means or K-Mediods**\n",
        "\n",
        "**Here we used K-Mediods to find Prototypes that will represent surrounding data**"
      ]
    },
    {
      "cell_type": "markdown",
      "metadata": {
        "id": "Jmw-L2knU4MH",
        "colab_type": "text"
      },
      "source": [
        "**As shown below we will create cluster of 9 diffrent classes so we generate dummy random distribution of 9 classes**"
      ]
    },
    {
      "cell_type": "code",
      "metadata": {
        "id": "6piSjblXPnpg",
        "colab_type": "code",
        "colab": {}
      },
      "source": [
        "X, y = make_blobs(n_samples=5000, centers=[[4,4], [-2, -1], [2, -3], [1, 1]], cluster_std=0.9)"
      ],
      "execution_count": null,
      "outputs": []
    },
    {
      "cell_type": "code",
      "metadata": {
        "id": "38mlw0I7pomP",
        "colab_type": "code",
        "colab": {
          "base_uri": "https://localhost:8080/",
          "height": 34
        },
        "outputId": "191930dd-38b3-410b-9725-2c79dfa96080"
      },
      "source": [
        "k_mediod=KMedoids(init = \"k-medoids++\",n_clusters=9,random_state=21)\n",
        "k_mediod.fit(X)\n",
        "k_mediod_labels = k_mediod.labels_\n",
        "k_mediod_labels"
      ],
      "execution_count": null,
      "outputs": [
        {
          "output_type": "execute_result",
          "data": {
            "text/plain": [
              "array([0, 5, 2, ..., 8, 2, 4])"
            ]
          },
          "metadata": {
            "tags": []
          },
          "execution_count": 31
        }
      ]
    },
    {
      "cell_type": "markdown",
      "metadata": {
        "id": "2lVl7O8gJXGI",
        "colab_type": "text"
      },
      "source": [
        "**Here as there are 9 classes which are randomly formed**\n",
        "\n",
        "**The below code  shows the centroids of 9 clusters**\n"
      ]
    },
    {
      "cell_type": "code",
      "metadata": {
        "id": "VO11SdDarnBz",
        "colab_type": "code",
        "colab": {
          "base_uri": "https://localhost:8080/",
          "height": 170
        },
        "outputId": "6380dab2-7fc1-4a4a-f57b-3f34c86265ba"
      },
      "source": [
        "k_mediod_cluster_centers = k_mediod.cluster_centers_\n",
        "k_mediod_cluster_centers"
      ],
      "execution_count": null,
      "outputs": [
        {
          "output_type": "execute_result",
          "data": {
            "text/plain": [
              "array([[ 0.62202715,  0.58611261],\n",
              "       [ 4.09201725,  4.46451389],\n",
              "       [-1.05658368, -1.07904448],\n",
              "       [ 1.84799111, -2.33603985],\n",
              "       [ 2.15296268, -3.66768503],\n",
              "       [-2.28516579, -0.09450416],\n",
              "       [ 1.32787152,  1.65276273],\n",
              "       [ 3.78674887,  3.24504094],\n",
              "       [-2.44935593, -1.43501087]])"
            ]
          },
          "metadata": {
            "tags": []
          },
          "execution_count": 32
        }
      ]
    },
    {
      "cell_type": "markdown",
      "metadata": {
        "id": "eEmgNpCRJtRV",
        "colab_type": "text"
      },
      "source": [
        "**Plotting each class in cluster**"
      ]
    },
    {
      "cell_type": "code",
      "metadata": {
        "id": "bGeLbteVr0ev",
        "colab_type": "code",
        "colab": {
          "base_uri": "https://localhost:8080/",
          "height": 265
        },
        "outputId": "f0b21fb0-2e6a-4882-e7fd-06fc11ea2c51"
      },
      "source": [
        "fig = plt.figure(figsize=(6, 4))\n",
        "colors = ['g','r','aqua','darkblue','magenta','orangered','purple','lawngreen','slategray']\n",
        "ax = fig.add_subplot(1, 1, 1)\n",
        "critic_x={}\n",
        "critic_y={}\n",
        "for k, col in zip(range(len(X)), colors):\n",
        "    \n",
        "        \n",
        "        my_members = (k_mediod_labels == k)\n",
        "        \n",
        "        cluster_center = k_mediod_cluster_centers[k]\n",
        "        \n",
        "        \n",
        "        ax.plot(X[my_members, 0], X[my_members, 1], 'w', markerfacecolor=col, marker='.')\n",
        "        critic_x[k]=X[my_members, 0].tolist()\n",
        "        critic_y[k]=X[my_members, 1].tolist()\n",
        "      \n",
        "        ax.plot(cluster_center[0], cluster_center[1], 'o', markerfacecolor=col,  markeredgecolor='k', markersize=6)\n",
        "\n",
        "        \n",
        "\n",
        "ax.set_title('KMediod')\n",
        "ax.set_xticks(())\n",
        "ax.set_yticks(())\n",
        "\n",
        "plt.show()\n"
      ],
      "execution_count": null,
      "outputs": [
        {
          "output_type": "display_data",
          "data": {
            "image/png": "[encoded data removed]",
            "text/plain": [
              "<Figure size 432x288 with 1 Axes>"
            ]
          },
          "metadata": {
            "tags": []
          }
        }
      ]
    },
    {
      "cell_type": "markdown",
      "metadata": {
        "id": "5trrBVk_KDmT",
        "colab_type": "text"
      },
      "source": [
        "**Calculating Critic Points based on the distance from the centroids**\n",
        "\n",
        "**IF point is far away from centroid it is considered as Critic Point**"
      ]
    },
    {
      "cell_type": "code",
      "metadata": {
        "id": "lRcIbQRcuYrn",
        "colab_type": "code",
        "colab": {
          "base_uri": "https://localhost:8080/",
          "height": 232
        },
        "outputId": "16d856a9-0732-4650-e737-9b9c87ec3247"
      },
      "source": [
        "plot_x=[]\n",
        "plot_y=[]\n",
        "img_extract=[]\n",
        "for label in critic_x:\n",
        "    max_x=0\n",
        "    max_y=0\n",
        "    count=0\n",
        "    for i in range(len(critic_x[label])):\n",
        "      numx=critic_x[label][i]-k_mediod_cluster_centers[label][0]\n",
        "      numy=critic_y[label][i]-k_mediod_cluster_centers[label][1]\n",
        "      if(max_x<numx):\n",
        "        max_x=numx\n",
        "        plot_x.append(critic_x[label][i])\n",
        "        plot_y.append(critic_y[label][i])\n",
        "        img_extract.append([label,i])\n",
        "\n",
        "       \n",
        "       \n",
        "      if(max_y<numy):\n",
        "        max_y=numy\n",
        "        plot_x.append(critic_x[label][i])\n",
        "        plot_y.append(critic_y[label][i])\n",
        "        plot_pd[label]=count\n",
        "        img_extract.append([label,i])"
      ],
      "execution_count": null,
      "outputs": [
        {
          "output_type": "error",
          "ename": "NameError",
          "evalue": "ignored",
          "traceback": [
            "\u001b[0;31m---------------------------------------------------------------------------\u001b[0m",
            "\u001b[0;31mNameError\u001b[0m                                 Traceback (most recent call last)",
            "\u001b[0;32m<ipython-input-34-c32ec8f33f85>\u001b[0m in \u001b[0;36m<module>\u001b[0;34m()\u001b[0m\n\u001b[1;32m     21\u001b[0m         \u001b[0mplot_x\u001b[0m\u001b[0;34m.\u001b[0m\u001b[0mappend\u001b[0m\u001b[0;34m(\u001b[0m\u001b[0mcritic_x\u001b[0m\u001b[0;34m[\u001b[0m\u001b[0mlabel\u001b[0m\u001b[0;34m]\u001b[0m\u001b[0;34m[\u001b[0m\u001b[0mi\u001b[0m\u001b[0;34m]\u001b[0m\u001b[0;34m)\u001b[0m\u001b[0;34m\u001b[0m\u001b[0;34m\u001b[0m\u001b[0m\n\u001b[1;32m     22\u001b[0m         \u001b[0mplot_y\u001b[0m\u001b[0;34m.\u001b[0m\u001b[0mappend\u001b[0m\u001b[0;34m(\u001b[0m\u001b[0mcritic_y\u001b[0m\u001b[0;34m[\u001b[0m\u001b[0mlabel\u001b[0m\u001b[0;34m]\u001b[0m\u001b[0;34m[\u001b[0m\u001b[0mi\u001b[0m\u001b[0;34m]\u001b[0m\u001b[0;34m)\u001b[0m\u001b[0;34m\u001b[0m\u001b[0;34m\u001b[0m\u001b[0m\n\u001b[0;32m---> 23\u001b[0;31m         \u001b[0mplot_pd\u001b[0m\u001b[0;34m[\u001b[0m\u001b[0mlabel\u001b[0m\u001b[0;34m]\u001b[0m\u001b[0;34m=\u001b[0m\u001b[0mcount\u001b[0m\u001b[0;34m\u001b[0m\u001b[0;34m\u001b[0m\u001b[0m\n\u001b[0m\u001b[1;32m     24\u001b[0m         \u001b[0mimg_extract\u001b[0m\u001b[0;34m.\u001b[0m\u001b[0mappend\u001b[0m\u001b[0;34m(\u001b[0m\u001b[0;34m[\u001b[0m\u001b[0mlabel\u001b[0m\u001b[0;34m,\u001b[0m\u001b[0mi\u001b[0m\u001b[0;34m]\u001b[0m\u001b[0;34m)\u001b[0m\u001b[0;34m\u001b[0m\u001b[0;34m\u001b[0m\u001b[0m\n\u001b[1;32m     25\u001b[0m \u001b[0;34m\u001b[0m\u001b[0m\n",
            "\u001b[0;31mNameError\u001b[0m: name 'plot_pd' is not defined"
          ]
        }
      ]
    },
    {
      "cell_type": "markdown",
      "metadata": {
        "id": "ydoKBA4DJ4LW",
        "colab_type": "text"
      },
      "source": [
        "**Given below figure shows the critic point in dataset**"
      ]
    },
    {
      "cell_type": "code",
      "metadata": {
        "id": "YokV2je9xKgV",
        "colab_type": "code",
        "colab": {
          "base_uri": "https://localhost:8080/",
          "height": 262
        },
        "outputId": "4ba02f1f-8d88-4421-c61b-9d1ae0ad8d78"
      },
      "source": [
        "plt.scatter(plot_x,plot_y)\n",
        "plt.show()"
      ],
      "execution_count": null,
      "outputs": [
        {
          "output_type": "display_data",
          "data": {
            "image/png": "[encoded data removed]",
            "text/plain": [
              "<Figure size 432x288 with 1 Axes>"
            ]
          },
          "metadata": {
            "tags": []
          }
        }
      ]
    },
    {
      "cell_type": "code",
      "metadata": {
        "id": "SXyAX7jV6yqc",
        "colab_type": "code",
        "colab": {
          "base_uri": "https://localhost:8080/",
          "height": 265
        },
        "outputId": "14a5941e-2e32-45f8-8801-f3f70f4534b0"
      },
      "source": [
        "fig = plt.figure(figsize=(6, 4))\n",
        "colors = ['g','r','aqua','darkblue','magenta','orangered','purple','lawngreen','slategray']\n",
        "ax = fig.add_subplot(1, 1, 1)\n",
        "critic_x={}\n",
        "critic_y={}\n",
        "for k, col in zip(range(len(X)), colors):\n",
        "    \n",
        "        \n",
        "        my_members = (k_mediod_labels == k)\n",
        "        \n",
        "        cluster_center = k_mediod_cluster_centers[k]\n",
        "        \n",
        "        \n",
        "        ax.plot(X[my_members, 0], X[my_members, 1], 'w', markerfacecolor=col, marker='.')\n",
        "        critic_x[k]=X[my_members, 0].tolist()\n",
        "        critic_y[k]=X[my_members, 1].tolist()\n",
        "      \n",
        "        ax.plot(cluster_center[0], cluster_center[1], 'o', markerfacecolor=col,  markeredgecolor='k', markersize=6)\n",
        "\n",
        "        \n",
        "\n",
        "ax.scatter(plot_x,plot_y,marker='o',color='deeppink',linewidth=3)#plots critic points\n",
        "ax.set_title('KMediod')\n",
        "ax.set_xticks(())\n",
        "ax.set_yticks(())\n",
        "\n",
        "plt.show()\n"
      ],
      "execution_count": null,
      "outputs": [
        {
          "output_type": "display_data",
          "data": {
            "image/png": "[encoded data removed]",
            "text/plain": [
              "<Figure size 432x288 with 1 Axes>"
            ]
          },
          "metadata": {
            "tags": []
          }
        }
      ]
    },
    {
      "cell_type": "markdown",
      "metadata": {
        "id": "2yOeVb-ZTI1O",
        "colab_type": "text"
      },
      "source": [
        "**As Shown above the pink circle shows critic points**"
      ]
    }
  ]
}